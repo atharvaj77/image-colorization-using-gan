{
 "cells": [
  {
   "cell_type": "code",
   "execution_count": 1,
   "id": "d3f6d6ec",
   "metadata": {},
   "outputs": [],
   "source": [
    "import tensorflow as tf"
   ]
  },
  {
   "cell_type": "code",
   "execution_count": 2,
   "id": "7461df6b",
   "metadata": {},
   "outputs": [],
   "source": [
    "import cv2\n",
    "import numpy as np\n",
    "import os"
   ]
  },
  {
   "cell_type": "code",
   "execution_count": 3,
   "id": "91231b96",
   "metadata": {},
   "outputs": [
    {
     "data": {
      "text/plain": [
       "123404"
      ]
     },
     "execution_count": 3,
     "metadata": {},
     "output_type": "execute_result"
    }
   ],
   "source": [
    "len(os.listdir('/Users/atharvajoshi/Desktop/AI Image Colorizer/content/unlabeled2017'))"
   ]
  },
  {
   "cell_type": "markdown",
   "id": "dca56ed5",
   "metadata": {},
   "source": [
    "Creating a custom batch dataloader for image dataset"
   ]
  },
  {
   "cell_type": "code",
   "execution_count": 4,
   "id": "143dfa37",
   "metadata": {},
   "outputs": [],
   "source": [
    "class DataGenerator():\n",
    "    def __init__(self, batch_size, folder_path, image_size):\n",
    "        self.batch_size = batch_size\n",
    "        self.folder_path = folder_path\n",
    "        self.current_index = 0\n",
    "        self.image_size = image_size\n",
    "\n",
    "    def reset_index(self):\n",
    "        self.current_index = 0\n",
    "        print(\"Index reset to 0 successfully\")\n",
    "\n",
    "    def generate_image_path(self):\n",
    "        images_path = []\n",
    "        image_names = os.listdir(self.folder_path)\n",
    "\n",
    "        for image in image_names:\n",
    "            if image.split('.')[-1] == 'jpg':\n",
    "                images_path.append(self.folder_path+'/'+image)\n",
    "\n",
    "        return images_path\n",
    "\n",
    "    def load_batch_path(self, imgpath_list):\n",
    "        batch_paths = imgpath_list[self.current_index:self.current_index+self.batch_size]\n",
    "        self.current_index = self.current_index + self.batch_size\n",
    "        \n",
    "        if self.current_index % 1600 == 0:\n",
    "            print(\"Current Index is :\"+ str(self.current_index))\n",
    "            \n",
    "        return batch_paths\n",
    "\n",
    "    def length_total(self):\n",
    "        length = len(self.generate_image_path())\n",
    "        return length\n",
    "\n",
    "    def load_batch(self):\n",
    "\n",
    "        img_path = self.generate_image_path()\n",
    "        current_batch = self.load_batch_path(img_path)\n",
    "\n",
    "        X_batch = []\n",
    "        Y_batch = []\n",
    "\n",
    "        for image in current_batch:\n",
    "            \n",
    "            img_arr = cv2.imread(image)\n",
    "            resized = cv2.resize(img_arr, (256,256))\n",
    "            img_lab = cv2.cvtColor(resized,cv2.COLOR_BGR2LAB)\n",
    "            lab_channels = cv2.split(img_lab)\n",
    "\n",
    "            #Normalizing Channels\n",
    "            normalized_l = lab_channels[0] / 127.5 - 1.\n",
    "            normalized_ab = (cv2.merge((lab_channels[1],lab_channels[2])) - 128.) / 127.\n",
    "\n",
    "            normalized_l = np.expand_dims(normalized_l,-1)\n",
    "            normalized_l = np.float32(normalized_l)\n",
    "            normalized_ab = np.float32(normalized_ab)\n",
    "                \n",
    "            \n",
    "\n",
    "            X_batch.append(normalized_l)\n",
    "            Y_batch.append(normalized_ab)\n",
    "\n",
    "\n",
    "        return np.array(X_batch),np.array(Y_batch)\n",
    "    "
   ]
  },
  {
   "cell_type": "code",
   "execution_count": 5,
   "id": "d15a8776",
   "metadata": {},
   "outputs": [],
   "source": [
    "data_generator = DataGenerator(16, '/Users/atharvajoshi/Desktop/AI Image Colorizer/content/unlabeled2017', (256,256))"
   ]
  },
  {
   "cell_type": "markdown",
   "id": "d25fd5e8",
   "metadata": {},
   "source": [
    "# Let's create our model"
   ]
  },
  {
   "cell_type": "code",
   "execution_count": 6,
   "id": "7174bca8",
   "metadata": {},
   "outputs": [],
   "source": [
    "from tensorflow.keras.optimizers import Adam\n",
    "from tensorflow.keras.activations import sigmoid\n",
    "from tensorflow.keras.layers import *\n",
    "from tensorflow.keras import Model"
   ]
  },
  {
   "cell_type": "code",
   "execution_count": 7,
   "id": "943405a2",
   "metadata": {},
   "outputs": [],
   "source": [
    "# Generator Model\n",
    "# Generate fake images based on previous data by using weights\n",
    "# U-net Architeture\n",
    "\n",
    "\n",
    "def Generator_model(input_image_dims):\n",
    "\n",
    "    def conv2d(layer_input, filters, f_size=4, bn=True):\n",
    "        initializer = tf.keras.initializers.RandomNormal(mean=0.0, stddev=0.02, seed=None)\n",
    "        d = Conv2D(filters, kernel_size=f_size, strides=2, padding='same',use_bias=False,kernel_initializer=initializer)(layer_input)\n",
    "        if bn:\n",
    "            d = BatchNormalization(momentum=0.1, epsilon=1e-05)(d)\n",
    "        d = LeakyReLU(alpha=0.2)(d)\n",
    "        return d\n",
    "\n",
    "    def deconv2d(layer_input, skip_input, filters, dropout_rate, apply_dropout=True):\n",
    "        initializer = tf.keras.initializers.RandomNormal(mean=0.0, stddev=0.02, seed=None)\n",
    "        u = Conv2DTranspose(filters, kernel_size=4, strides=2, padding='same',use_bias=False,kernel_initializer=initializer)(layer_input)\n",
    "        u = BatchNormalization(momentum=0.1, epsilon=1e-05)(u)\n",
    "        u = Activation('relu')(u)\n",
    "        \n",
    "        if apply_dropout:\n",
    "            u = Dropout(dropout_rate)(u)\n",
    "            \n",
    "\n",
    "        u = Concatenate()([u, skip_input])\n",
    "        return u\n",
    "\n",
    "    # Image input\n",
    "    d0 = Input((256,256,1))\n",
    "    initializer = tf.keras.initializers.RandomNormal(mean=0.0, stddev=0.02, seed=None)\n",
    "    layer_one = Conv2D(64, 4, strides=2, padding='same',use_bias=False,kernel_initializer=initializer)(d0)\n",
    "    layer_one = LeakyReLU(alpha=0.2)(layer_one)\n",
    "\n",
    "    # Downsampling\n",
    "    d1 = conv2d(layer_one, 64)\n",
    "    d2 = conv2d(d1, 128)\n",
    "    d3 = conv2d(d2, 256)\n",
    "    d4 = conv2d(d3, 512)\n",
    "    d5 = conv2d(d4, 512)\n",
    "    d6 = conv2d(d5, 512)\n",
    "    \n",
    "    \n",
    "    d7 = conv2d(d6, 512)\n",
    "\n",
    "    # Upsampling\n",
    "    u1 = deconv2d(d7, d6, 512,0.5)\n",
    "    u2 = deconv2d(u1, d5, 512,0.5)\n",
    "    u3 = deconv2d(u2, d4, 512,0.5)\n",
    "    u4 = deconv2d(u3, d3, 256,0.5)\n",
    "    u5 = deconv2d(u4, d2, 128, 0.0,False)\n",
    "    u6 = deconv2d(u5, d1, 64, 0.0,False)\n",
    "    u7 = deconv2d(u6, layer_one, 64, 0.0,False)\n",
    "    \n",
    "    \n",
    "    out = Conv2DTranspose(2, 4, strides=2, padding='same',activation='tanh',kernel_initializer=initializer)(u7)\n",
    "\n",
    "    return Model(d0, out)"
   ]
  },
  {
   "cell_type": "code",
   "execution_count": 8,
   "id": "00966cbf",
   "metadata": {},
   "outputs": [
    {
     "name": "stderr",
     "output_type": "stream",
     "text": [
      "2022-02-02 19:24:41.472739: I tensorflow/core/common_runtime/pluggable_device/pluggable_device_factory.cc:305] Could not identify NUMA node of platform GPU ID 0, defaulting to 0. Your kernel may not have been built with NUMA support.\n",
      "2022-02-02 19:24:41.472992: I tensorflow/core/common_runtime/pluggable_device/pluggable_device_factory.cc:271] Created TensorFlow device (/job:localhost/replica:0/task:0/device:GPU:0 with 0 MB memory) -> physical PluggableDevice (device: 0, name: METAL, pci bus id: <undefined>)\n"
     ]
    },
    {
     "name": "stdout",
     "output_type": "stream",
     "text": [
      "Metal device set to: Apple M1\n"
     ]
    }
   ],
   "source": [
    "generator = Generator_model((256,256))"
   ]
  },
  {
   "cell_type": "code",
   "execution_count": 9,
   "id": "5ef1a74c",
   "metadata": {},
   "outputs": [
    {
     "name": "stdout",
     "output_type": "stream",
     "text": [
      "Model: \"model\"\n",
      "__________________________________________________________________________________________________\n",
      " Layer (type)                   Output Shape         Param #     Connected to                     \n",
      "==================================================================================================\n",
      " input_1 (InputLayer)           [(None, 256, 256, 1  0           []                               \n",
      "                                )]                                                                \n",
      "                                                                                                  \n",
      " conv2d (Conv2D)                (None, 128, 128, 64  1024        ['input_1[0][0]']                \n",
      "                                )                                                                 \n",
      "                                                                                                  \n",
      " leaky_re_lu (LeakyReLU)        (None, 128, 128, 64  0           ['conv2d[0][0]']                 \n",
      "                                )                                                                 \n",
      "                                                                                                  \n",
      " conv2d_1 (Conv2D)              (None, 64, 64, 64)   65536       ['leaky_re_lu[0][0]']            \n",
      "                                                                                                  \n",
      " batch_normalization (BatchNorm  (None, 64, 64, 64)  256         ['conv2d_1[0][0]']               \n",
      " alization)                                                                                       \n",
      "                                                                                                  \n",
      " leaky_re_lu_1 (LeakyReLU)      (None, 64, 64, 64)   0           ['batch_normalization[0][0]']    \n",
      "                                                                                                  \n",
      " conv2d_2 (Conv2D)              (None, 32, 32, 128)  131072      ['leaky_re_lu_1[0][0]']          \n",
      "                                                                                                  \n",
      " batch_normalization_1 (BatchNo  (None, 32, 32, 128)  512        ['conv2d_2[0][0]']               \n",
      " rmalization)                                                                                     \n",
      "                                                                                                  \n",
      " leaky_re_lu_2 (LeakyReLU)      (None, 32, 32, 128)  0           ['batch_normalization_1[0][0]']  \n",
      "                                                                                                  \n",
      " conv2d_3 (Conv2D)              (None, 16, 16, 256)  524288      ['leaky_re_lu_2[0][0]']          \n",
      "                                                                                                  \n",
      " batch_normalization_2 (BatchNo  (None, 16, 16, 256)  1024       ['conv2d_3[0][0]']               \n",
      " rmalization)                                                                                     \n",
      "                                                                                                  \n",
      " leaky_re_lu_3 (LeakyReLU)      (None, 16, 16, 256)  0           ['batch_normalization_2[0][0]']  \n",
      "                                                                                                  \n",
      " conv2d_4 (Conv2D)              (None, 8, 8, 512)    2097152     ['leaky_re_lu_3[0][0]']          \n",
      "                                                                                                  \n",
      " batch_normalization_3 (BatchNo  (None, 8, 8, 512)   2048        ['conv2d_4[0][0]']               \n",
      " rmalization)                                                                                     \n",
      "                                                                                                  \n",
      " leaky_re_lu_4 (LeakyReLU)      (None, 8, 8, 512)    0           ['batch_normalization_3[0][0]']  \n",
      "                                                                                                  \n",
      " conv2d_5 (Conv2D)              (None, 4, 4, 512)    4194304     ['leaky_re_lu_4[0][0]']          \n",
      "                                                                                                  \n",
      " batch_normalization_4 (BatchNo  (None, 4, 4, 512)   2048        ['conv2d_5[0][0]']               \n",
      " rmalization)                                                                                     \n",
      "                                                                                                  \n",
      " leaky_re_lu_5 (LeakyReLU)      (None, 4, 4, 512)    0           ['batch_normalization_4[0][0]']  \n",
      "                                                                                                  \n",
      " conv2d_6 (Conv2D)              (None, 2, 2, 512)    4194304     ['leaky_re_lu_5[0][0]']          \n",
      "                                                                                                  \n",
      " batch_normalization_5 (BatchNo  (None, 2, 2, 512)   2048        ['conv2d_6[0][0]']               \n",
      " rmalization)                                                                                     \n",
      "                                                                                                  \n",
      " leaky_re_lu_6 (LeakyReLU)      (None, 2, 2, 512)    0           ['batch_normalization_5[0][0]']  \n",
      "                                                                                                  \n",
      " conv2d_7 (Conv2D)              (None, 1, 1, 512)    4194304     ['leaky_re_lu_6[0][0]']          \n",
      "                                                                                                  \n",
      " batch_normalization_6 (BatchNo  (None, 1, 1, 512)   2048        ['conv2d_7[0][0]']               \n",
      " rmalization)                                                                                     \n",
      "                                                                                                  \n",
      " leaky_re_lu_7 (LeakyReLU)      (None, 1, 1, 512)    0           ['batch_normalization_6[0][0]']  \n",
      "                                                                                                  \n",
      " conv2d_transpose (Conv2DTransp  (None, 2, 2, 512)   4194304     ['leaky_re_lu_7[0][0]']          \n",
      " ose)                                                                                             \n",
      "                                                                                                  \n",
      " batch_normalization_7 (BatchNo  (None, 2, 2, 512)   2048        ['conv2d_transpose[0][0]']       \n",
      " rmalization)                                                                                     \n",
      "                                                                                                  \n",
      " activation (Activation)        (None, 2, 2, 512)    0           ['batch_normalization_7[0][0]']  \n",
      "                                                                                                  \n",
      " dropout (Dropout)              (None, 2, 2, 512)    0           ['activation[0][0]']             \n",
      "                                                                                                  \n",
      " concatenate (Concatenate)      (None, 2, 2, 1024)   0           ['dropout[0][0]',                \n",
      "                                                                  'leaky_re_lu_6[0][0]']          \n",
      "                                                                                                  \n",
      " conv2d_transpose_1 (Conv2DTran  (None, 4, 4, 512)   8388608     ['concatenate[0][0]']            \n",
      " spose)                                                                                           \n",
      "                                                                                                  \n",
      " batch_normalization_8 (BatchNo  (None, 4, 4, 512)   2048        ['conv2d_transpose_1[0][0]']     \n",
      " rmalization)                                                                                     \n",
      "                                                                                                  \n",
      " activation_1 (Activation)      (None, 4, 4, 512)    0           ['batch_normalization_8[0][0]']  \n",
      "                                                                                                  \n",
      " dropout_1 (Dropout)            (None, 4, 4, 512)    0           ['activation_1[0][0]']           \n",
      "                                                                                                  \n",
      " concatenate_1 (Concatenate)    (None, 4, 4, 1024)   0           ['dropout_1[0][0]',              \n",
      "                                                                  'leaky_re_lu_5[0][0]']          \n",
      "                                                                                                  \n",
      " conv2d_transpose_2 (Conv2DTran  (None, 8, 8, 512)   8388608     ['concatenate_1[0][0]']          \n",
      " spose)                                                                                           \n",
      "                                                                                                  \n",
      " batch_normalization_9 (BatchNo  (None, 8, 8, 512)   2048        ['conv2d_transpose_2[0][0]']     \n",
      " rmalization)                                                                                     \n",
      "                                                                                                  \n",
      " activation_2 (Activation)      (None, 8, 8, 512)    0           ['batch_normalization_9[0][0]']  \n",
      "                                                                                                  \n",
      " dropout_2 (Dropout)            (None, 8, 8, 512)    0           ['activation_2[0][0]']           \n",
      "                                                                                                  \n",
      " concatenate_2 (Concatenate)    (None, 8, 8, 1024)   0           ['dropout_2[0][0]',              \n",
      "                                                                  'leaky_re_lu_4[0][0]']          \n",
      "                                                                                                  \n",
      " conv2d_transpose_3 (Conv2DTran  (None, 16, 16, 256)  4194304    ['concatenate_2[0][0]']          \n",
      " spose)                                                                                           \n",
      "                                                                                                  \n",
      " batch_normalization_10 (BatchN  (None, 16, 16, 256)  1024       ['conv2d_transpose_3[0][0]']     \n",
      " ormalization)                                                                                    \n",
      "                                                                                                  \n",
      " activation_3 (Activation)      (None, 16, 16, 256)  0           ['batch_normalization_10[0][0]'] \n",
      "                                                                                                  \n",
      " dropout_3 (Dropout)            (None, 16, 16, 256)  0           ['activation_3[0][0]']           \n",
      "                                                                                                  \n",
      " concatenate_3 (Concatenate)    (None, 16, 16, 512)  0           ['dropout_3[0][0]',              \n",
      "                                                                  'leaky_re_lu_3[0][0]']          \n",
      "                                                                                                  \n",
      " conv2d_transpose_4 (Conv2DTran  (None, 32, 32, 128)  1048576    ['concatenate_3[0][0]']          \n",
      " spose)                                                                                           \n",
      "                                                                                                  \n",
      " batch_normalization_11 (BatchN  (None, 32, 32, 128)  512        ['conv2d_transpose_4[0][0]']     \n",
      " ormalization)                                                                                    \n",
      "                                                                                                  \n",
      " activation_4 (Activation)      (None, 32, 32, 128)  0           ['batch_normalization_11[0][0]'] \n",
      "                                                                                                  \n",
      " concatenate_4 (Concatenate)    (None, 32, 32, 256)  0           ['activation_4[0][0]',           \n",
      "                                                                  'leaky_re_lu_2[0][0]']          \n",
      "                                                                                                  \n",
      " conv2d_transpose_5 (Conv2DTran  (None, 64, 64, 64)  262144      ['concatenate_4[0][0]']          \n",
      " spose)                                                                                           \n",
      "                                                                                                  \n",
      " batch_normalization_12 (BatchN  (None, 64, 64, 64)  256         ['conv2d_transpose_5[0][0]']     \n",
      " ormalization)                                                                                    \n",
      "                                                                                                  \n",
      " activation_5 (Activation)      (None, 64, 64, 64)   0           ['batch_normalization_12[0][0]'] \n",
      "                                                                                                  \n",
      " concatenate_5 (Concatenate)    (None, 64, 64, 128)  0           ['activation_5[0][0]',           \n",
      "                                                                  'leaky_re_lu_1[0][0]']          \n",
      "                                                                                                  \n",
      " conv2d_transpose_6 (Conv2DTran  (None, 128, 128, 64  131072     ['concatenate_5[0][0]']          \n",
      " spose)                         )                                                                 \n",
      "                                                                                                  \n",
      " batch_normalization_13 (BatchN  (None, 128, 128, 64  256        ['conv2d_transpose_6[0][0]']     \n",
      " ormalization)                  )                                                                 \n",
      "                                                                                                  \n",
      " activation_6 (Activation)      (None, 128, 128, 64  0           ['batch_normalization_13[0][0]'] \n",
      "                                )                                                                 \n",
      "                                                                                                  \n",
      " concatenate_6 (Concatenate)    (None, 128, 128, 12  0           ['activation_6[0][0]',           \n",
      "                                8)                                'leaky_re_lu[0][0]']            \n",
      "                                                                                                  \n",
      " conv2d_transpose_7 (Conv2DTran  (None, 256, 256, 2)  4098       ['concatenate_6[0][0]']          \n",
      " spose)                                                                                           \n",
      "                                                                                                  \n",
      "==================================================================================================\n",
      "Total params: 42,031,874\n",
      "Trainable params: 42,022,786\n",
      "Non-trainable params: 9,088\n",
      "__________________________________________________________________________________________________\n"
     ]
    }
   ],
   "source": [
    "generator.summary()"
   ]
  },
  {
   "cell_type": "code",
   "execution_count": 10,
   "id": "4621a40f",
   "metadata": {},
   "outputs": [],
   "source": [
    "# Discriminator Model\n",
    "# Job Classification between Original and Fake(Generated by generator)\n",
    "# Dual Classes Classifier\n",
    "\n",
    "def Discriminator_model():\n",
    "    \n",
    "    initializer = tf.keras.initializers.RandomNormal(mean=0.0, stddev=0.02, seed=None)\n",
    "\n",
    "    img_inp = Input(shape = (256, 256, 3))\n",
    " \n",
    "    conv_1 = Conv2D(64,4,strides=2,padding='same',kernel_initializer=initializer,use_bias=False)(img_inp)\n",
    "    act_1 = LeakyReLU(0.2)(conv_1)\n",
    " \n",
    "    conv_2 = Conv2D(128,4,strides=2,padding='same',kernel_initializer=initializer,use_bias=False)(act_1)\n",
    "    batch_norm_2 = BatchNormalization(momentum=0.1, epsilon=1e-05)(conv_2)\n",
    "    act_2 = LeakyReLU(0.2)(batch_norm_2)\n",
    " \n",
    "    conv_3 = Conv2D(256,4,strides=2,padding='same',kernel_initializer=initializer,use_bias=False)(act_2)\n",
    "    batch_norm_3 = BatchNormalization(momentum=0.1, epsilon=1e-05)(conv_3)\n",
    "    act_3 = LeakyReLU(0.2)(batch_norm_3)\n",
    " \n",
    "    conv_4 = Conv2D(512,4,strides=1,padding='same',kernel_initializer=initializer,use_bias=False)(act_3)\n",
    "    batch_norm_4 = BatchNormalization(momentum=0.1, epsilon=1e-05)(conv_4)\n",
    "    act_4 = LeakyReLU(0.2)(batch_norm_4)\n",
    " \n",
    "    conv_5 = Conv2D(1,4,strides=1,padding='same',kernel_initializer=initializer)(act_4)\n",
    " \n",
    "    disc_model = Model(img_inp, conv_5)\n",
    "    \n",
    "    return disc_model\n"
   ]
  },
  {
   "cell_type": "code",
   "execution_count": 11,
   "id": "0b978531",
   "metadata": {},
   "outputs": [],
   "source": [
    "discriminator = Discriminator_model()"
   ]
  },
  {
   "cell_type": "code",
   "execution_count": 12,
   "id": "03d5a08e",
   "metadata": {},
   "outputs": [
    {
     "name": "stdout",
     "output_type": "stream",
     "text": [
      "Model: \"model_1\"\n",
      "_________________________________________________________________\n",
      " Layer (type)                Output Shape              Param #   \n",
      "=================================================================\n",
      " input_2 (InputLayer)        [(None, 256, 256, 3)]     0         \n",
      "                                                                 \n",
      " conv2d_8 (Conv2D)           (None, 128, 128, 64)      3072      \n",
      "                                                                 \n",
      " leaky_re_lu_8 (LeakyReLU)   (None, 128, 128, 64)      0         \n",
      "                                                                 \n",
      " conv2d_9 (Conv2D)           (None, 64, 64, 128)       131072    \n",
      "                                                                 \n",
      " batch_normalization_14 (Bat  (None, 64, 64, 128)      512       \n",
      " chNormalization)                                                \n",
      "                                                                 \n",
      " leaky_re_lu_9 (LeakyReLU)   (None, 64, 64, 128)       0         \n",
      "                                                                 \n",
      " conv2d_10 (Conv2D)          (None, 32, 32, 256)       524288    \n",
      "                                                                 \n",
      " batch_normalization_15 (Bat  (None, 32, 32, 256)      1024      \n",
      " chNormalization)                                                \n",
      "                                                                 \n",
      " leaky_re_lu_10 (LeakyReLU)  (None, 32, 32, 256)       0         \n",
      "                                                                 \n",
      " conv2d_11 (Conv2D)          (None, 32, 32, 512)       2097152   \n",
      "                                                                 \n",
      " batch_normalization_16 (Bat  (None, 32, 32, 512)      2048      \n",
      " chNormalization)                                                \n",
      "                                                                 \n",
      " leaky_re_lu_11 (LeakyReLU)  (None, 32, 32, 512)       0         \n",
      "                                                                 \n",
      " conv2d_12 (Conv2D)          (None, 32, 32, 1)         8193      \n",
      "                                                                 \n",
      "=================================================================\n",
      "Total params: 2,767,361\n",
      "Trainable params: 2,765,569\n",
      "Non-trainable params: 1,792\n",
      "_________________________________________________________________\n"
     ]
    }
   ],
   "source": [
    "discriminator.summary()"
   ]
  },
  {
   "cell_type": "code",
   "execution_count": 13,
   "id": "5fed9513",
   "metadata": {},
   "outputs": [],
   "source": [
    "generator_optimizer = Adam(3.2e-5,0.5,0.999)\n",
    "discriminator_optimizer = Adam(3.2e-5,0.5,0.999)"
   ]
  },
  {
   "cell_type": "markdown",
   "id": "c1a42c58",
   "metadata": {},
   "source": [
    "## Pretraining the generator on L1/MAE Loss"
   ]
  },
  {
   "cell_type": "code",
   "execution_count": null,
   "id": "d784abe9",
   "metadata": {},
   "outputs": [],
   "source": [
    "pretrain_optimizer = Adam(3.2e-5,0.5,0.999)"
   ]
  },
  {
   "cell_type": "code",
   "execution_count": null,
   "id": "1a216b05",
   "metadata": {},
   "outputs": [],
   "source": [
    "def pretrain_mae_loss(ab,ab_predicted):\n",
    "    l1_loss = tf.reduce_mean(tf.abs(ab_predicted - ab))\n",
    "    return l1_loss"
   ]
  },
  {
   "cell_type": "code",
   "execution_count": null,
   "id": "04e1207b",
   "metadata": {},
   "outputs": [],
   "source": [
    "@tf.function\n",
    "def pretrain_step(l,ab):\n",
    "        \n",
    "    with tf.GradientTape() as gen_tape:\n",
    "        ab_predicted = generator(l, training=True)\n",
    "        \n",
    "        gen_loss = pretrain_mae_loss(ab,ab_predicted)\n",
    "    \n",
    "    \n",
    "    generator_gradients = gen_tape.gradient(gen_loss,\n",
    "                                            generator.trainable_variables)\n",
    "    \n",
    "    pretrain_optimizer.apply_gradients(zip(generator_gradients,\n",
    "                                          generator.trainable_variables))\n",
    "    \n",
    "    return gen_loss\n",
    "        "
   ]
  },
  {
   "cell_type": "code",
   "execution_count": null,
   "id": "c2f6249d",
   "metadata": {},
   "outputs": [],
   "source": [
    "def generator_pretraining(n_images,batch_size,num_epochs):\n",
    "    \n",
    "    len_epoch = n_images//batch_size\n",
    "    \n",
    "    for e in range(num_epochs):\n",
    "        \n",
    "        data_generator.reset_index()\n",
    "        \n",
    "        print(\"Epoch: \"+str(e+1)+'/'+str(num_epochs))\n",
    "    \n",
    "        for i in range(len_epoch):\n",
    "\n",
    "            l,ab = data_generator.load_batch()\n",
    "\n",
    "            if (l.max() or ab.max()) > 1.0:\n",
    "                print(\"Max value exceeded at image of index: \"+str(i))\n",
    "                break\n",
    "\n",
    "            if (l.min() or ab.min()) < -1.0:\n",
    "                print(\"Min value exceeded at image of index: \"+str(i))\n",
    "                break\n",
    "\n",
    "\n",
    "\n",
    "            l = tf.convert_to_tensor(l)\n",
    "            ab = tf.convert_to_tensor(ab)\n",
    "\n",
    "            l1_loss = pretrain_step(l,ab)\n",
    "\n",
    "            if i % 1000 == 0:\n",
    "                print(str(i*batch_size)+' images completed')\n",
    "                \n",
    "                print(\"L1 Loss:\"+str(l1_loss))"
   ]
  },
  {
   "cell_type": "code",
   "execution_count": null,
   "id": "2b610a89",
   "metadata": {},
   "outputs": [],
   "source": [
    "train = generator_pretraining(50000,16,20)"
   ]
  },
  {
   "cell_type": "code",
   "execution_count": null,
   "id": "9c55b131",
   "metadata": {},
   "outputs": [],
   "source": [
    "generator.save('generator_pretrain_20.h5')"
   ]
  },
  {
   "cell_type": "markdown",
   "id": "21fe6bf4",
   "metadata": {},
   "source": [
    "## Training the GAN with pretrained Generator"
   ]
  },
  {
   "cell_type": "code",
   "execution_count": 14,
   "id": "a1e4df2a",
   "metadata": {},
   "outputs": [],
   "source": [
    "LAMBDA = 100\n",
    "\n",
    "\n",
    "def discriminator_loss(disc_real_output, disc_generated_output):\n",
    "    real_loss = tf.nn.sigmoid_cross_entropy_with_logits(tf.ones_like(disc_real_output), disc_real_output)\n",
    "    generated_loss = tf.nn.sigmoid_cross_entropy_with_logits(tf.zeros_like(disc_generated_output), disc_generated_output)\n",
    "    total_disc_loss = tf.reduce_mean(real_loss + generated_loss) * 0.5\n",
    "    return total_disc_loss\n",
    "\n",
    "\n",
    "\n",
    "def generator_loss(disc_generated_output, gen_output, target):\n",
    "    gan_loss = tf.reduce_mean(tf.nn.sigmoid_cross_entropy_with_logits(tf.ones_like(disc_generated_output), disc_generated_output))\n",
    "    # mean absolute error\n",
    "    l1_loss = tf.reduce_mean(tf.abs(target - gen_output))\n",
    "    total_gen_loss = gan_loss + (LAMBDA * l1_loss)\n",
    "    return total_gen_loss, gan_loss, l1_loss"
   ]
  },
  {
   "cell_type": "code",
   "execution_count": 15,
   "id": "1f93c075",
   "metadata": {},
   "outputs": [],
   "source": [
    "@tf.function\n",
    "def train_step(l,ab,batch_size):\n",
    "        \n",
    "        \n",
    "    with tf.GradientTape() as gen_tape, tf.GradientTape() as disc_tape:\n",
    "        ab_predicted = generator(l, training=True)\n",
    "\n",
    "        disc_real_output = discriminator(tf.keras.layers.concatenate([l, ab]), training=True)\n",
    "        disc_generated_output = discriminator(tf.keras.layers.concatenate([l, ab_predicted]), training=True)\n",
    "\n",
    "        gen_total_loss, gen_gan_loss, gen_l1_loss = generator_loss(\n",
    "            disc_generated_output, ab_predicted, ab)\n",
    "        disc_loss = discriminator_loss(disc_real_output, disc_generated_output)\n",
    "    \n",
    "    \n",
    "    generator_gradients = gen_tape.gradient(gen_total_loss,\n",
    "                                            generator.trainable_variables)\n",
    "    discriminator_gradients = disc_tape.gradient(disc_loss,\n",
    "                                                 discriminator.trainable_variables)\n",
    "\n",
    "    generator_optimizer.apply_gradients(zip(generator_gradients,\n",
    "                                          generator.trainable_variables))\n",
    "    discriminator_optimizer.apply_gradients(zip(discriminator_gradients,\n",
    "                                              discriminator.trainable_variables))\n",
    "    \n",
    "    \n",
    "    return gen_gan_loss,gen_total_loss,gen_gan_loss, gen_l1_loss\n",
    "        "
   ]
  },
  {
   "cell_type": "code",
   "execution_count": 16,
   "id": "a8783910",
   "metadata": {},
   "outputs": [],
   "source": [
    "def gan_training(batch_size,n_images,num_epochs):\n",
    "    \n",
    "    len_epoch = n_images//batch_size\n",
    "    \n",
    "    for e in range(num_epochs):\n",
    "        \n",
    "        data_generator.reset_index()\n",
    "        \n",
    "        print(\"Epoch: \"+str(e+1)+'/'+str(num_epochs))\n",
    "    \n",
    "        for i in range(len_epoch):\n",
    "\n",
    "            l,ab = data_generator.load_batch()\n",
    "\n",
    "            if (l.max() or ab.max()) > 1.0:\n",
    "                print(\"Max value exceeded at image of index: \"+str(i))\n",
    "                break\n",
    "\n",
    "            if (l.min() or ab.min()) < -1.0:\n",
    "                print(\"Min value exceeded at image of index: \"+str(i))\n",
    "                break\n",
    "\n",
    "\n",
    "\n",
    "            l = tf.convert_to_tensor(l)\n",
    "            ab = tf.convert_to_tensor(ab)\n",
    "\n",
    "            dis_loss,conditional_loss,gan_loss,l1_loss = train_step(l,ab,batch_size)\n",
    "\n",
    "            if i % 1000 == 0:\n",
    "                print(str(i)+' images completed')\n",
    "                \n",
    "                \n",
    "                print(\"Discriminator Loss: \"+str(dis_loss))\n",
    "                print(\"Conditional Loss:\"+str(conditional_loss))\n",
    "                print(\"GAN Loss:\"+str(gan_loss))\n",
    "                print(\"L1 Loss:\"+str(l1_loss))"
   ]
  },
  {
   "cell_type": "code",
   "execution_count": 17,
   "id": "50848375",
   "metadata": {},
   "outputs": [],
   "source": [
    "import matplotlib.pyplot as plt"
   ]
  },
  {
   "cell_type": "code",
   "execution_count": 18,
   "id": "6a175063",
   "metadata": {},
   "outputs": [],
   "source": [
    "import tensorflow"
   ]
  },
  {
   "cell_type": "code",
   "execution_count": 19,
   "id": "354424d8",
   "metadata": {},
   "outputs": [
    {
     "name": "stdout",
     "output_type": "stream",
     "text": [
      "WARNING:tensorflow:No training configuration found in the save file, so the model was *not* compiled. Compile it manually.\n",
      "WARNING:tensorflow:No training configuration found in the save file, so the model was *not* compiled. Compile it manually.\n"
     ]
    }
   ],
   "source": [
    "generator = tensorflow.keras.models.load_model('generator_20.h5')\n",
    "discriminator = tensorflow.keras.models.load_model('discriminator_20.h5')"
   ]
  },
  {
   "cell_type": "code",
   "execution_count": 20,
   "id": "53bb0097",
   "metadata": {},
   "outputs": [],
   "source": [
    "def load_optimizer_state(optimizer, load_path, load_name, model_train_vars):\n",
    "    '''\n",
    "    Loads keras.optimizers object state.\n",
    "\n",
    "    Arguments:\n",
    "    optimizer --- Optimizer object to be loaded.\n",
    "    load_path --- Path to save location.\n",
    "    load_name --- Name of the .npy file to be read.\n",
    "    model_train_vars --- List of model variables (obtained using Model.trainable_variables)\n",
    "\n",
    "    '''\n",
    "\n",
    "    # Load optimizer weights\n",
    "    opt_weights = np.load(os.path.join(load_path, load_name)+'.npy', allow_pickle=True)\n",
    "\n",
    "    # dummy zero gradients\n",
    "    zero_grads = [tf.zeros_like(w) for w in model_train_vars]\n",
    "    # save current state of variables\n",
    "    saved_vars = [tf.identity(w) for w in model_train_vars]\n",
    "\n",
    "    # Apply gradients which don't do nothing with Adam\n",
    "    optimizer.apply_gradients(zip(zero_grads, model_train_vars))\n",
    "\n",
    "    # Reload variables\n",
    "    [x.assign(y) for x,y in zip(model_train_vars, saved_vars)]\n",
    "\n",
    "    # Set the weights of the optimizer\n",
    "    optimizer.set_weights(opt_weights)\n",
    "\n",
    "\n",
    "    return"
   ]
  },
  {
   "cell_type": "code",
   "execution_count": 21,
   "id": "1e55e541",
   "metadata": {},
   "outputs": [],
   "source": [
    "load_optimizer_state(generator_optimizer, '/Users/atharvajoshi/Desktop/AI Image Colorizer/optimizers/','generator_optimizer_20',generator.trainable_variables)"
   ]
  },
  {
   "cell_type": "code",
   "execution_count": 22,
   "id": "eb62787d",
   "metadata": {},
   "outputs": [],
   "source": [
    "load_optimizer_state(discriminator_optimizer, '/Users/atharvajoshi/Desktop/AI Image Colorizer/optimizers/','discriminator_optimizer_20',discriminator.trainable_variables)"
   ]
  },
  {
   "cell_type": "code",
   "execution_count": null,
   "id": "ddd76949",
   "metadata": {},
   "outputs": [
    {
     "name": "stdout",
     "output_type": "stream",
     "text": [
      "Index reset to 0 successfully\n",
      "Epoch: 1/5\n"
     ]
    },
    {
     "name": "stderr",
     "output_type": "stream",
     "text": [
      "2022-02-02 19:24:56.085116: W tensorflow/core/platform/profile_utils/cpu_utils.cc:128] Failed to get CPU frequency: 0 Hz\n",
      "2022-02-02 19:24:56.085311: I tensorflow/core/grappler/optimizers/custom_graph_optimizer_registry.cc:112] Plugin optimizer for device_type GPU is enabled.\n"
     ]
    },
    {
     "name": "stdout",
     "output_type": "stream",
     "text": [
      "0 images completed\n",
      "Discriminator Loss: tf.Tensor(2.7215593, shape=(), dtype=float32)\n",
      "Conditional Loss:tf.Tensor(8.264063, shape=(), dtype=float32)\n",
      "GAN Loss:tf.Tensor(2.7215593, shape=(), dtype=float32)\n",
      "L1 Loss:tf.Tensor(0.055425037, shape=(), dtype=float32)\n",
      "Current Index is :1600\n",
      "Current Index is :3200\n",
      "Current Index is :4800\n",
      "Current Index is :6400\n",
      "Current Index is :8000\n",
      "Current Index is :9600\n",
      "Current Index is :11200\n",
      "Current Index is :12800\n",
      "Current Index is :14400\n",
      "Current Index is :16000\n",
      "1000 images completed\n",
      "Discriminator Loss: tf.Tensor(1.7228122, shape=(), dtype=float32)\n",
      "Conditional Loss:tf.Tensor(7.1306553, shape=(), dtype=float32)\n",
      "GAN Loss:tf.Tensor(1.7228122, shape=(), dtype=float32)\n",
      "L1 Loss:tf.Tensor(0.05407843, shape=(), dtype=float32)\n",
      "Current Index is :17600\n",
      "Current Index is :19200\n",
      "Current Index is :20800\n",
      "Current Index is :22400\n",
      "Current Index is :24000\n",
      "Current Index is :25600\n",
      "Current Index is :27200\n",
      "Current Index is :28800\n",
      "Current Index is :30400\n",
      "Current Index is :32000\n",
      "2000 images completed\n",
      "Discriminator Loss: tf.Tensor(1.1795412, shape=(), dtype=float32)\n",
      "Conditional Loss:tf.Tensor(7.8628693, shape=(), dtype=float32)\n",
      "GAN Loss:tf.Tensor(1.1795412, shape=(), dtype=float32)\n",
      "L1 Loss:tf.Tensor(0.06683328, shape=(), dtype=float32)\n",
      "Current Index is :33600\n",
      "Current Index is :35200\n",
      "Current Index is :36800\n",
      "Current Index is :38400\n",
      "Current Index is :40000\n",
      "Current Index is :41600\n",
      "Current Index is :43200\n",
      "Current Index is :44800\n",
      "Current Index is :46400\n",
      "Current Index is :48000\n",
      "3000 images completed\n",
      "Discriminator Loss: tf.Tensor(0.84799135, shape=(), dtype=float32)\n",
      "Conditional Loss:tf.Tensor(7.1832833, shape=(), dtype=float32)\n",
      "GAN Loss:tf.Tensor(0.84799135, shape=(), dtype=float32)\n",
      "L1 Loss:tf.Tensor(0.06335292, shape=(), dtype=float32)\n",
      "Current Index is :49600\n",
      "Index reset to 0 successfully\n",
      "Epoch: 2/5\n",
      "0 images completed\n",
      "Discriminator Loss: tf.Tensor(1.794106, shape=(), dtype=float32)\n",
      "Conditional Loss:tf.Tensor(7.2577314, shape=(), dtype=float32)\n",
      "GAN Loss:tf.Tensor(1.794106, shape=(), dtype=float32)\n",
      "L1 Loss:tf.Tensor(0.054636255, shape=(), dtype=float32)\n"
     ]
    }
   ],
   "source": [
    "train = gan_training(16,50000,5)"
   ]
  },
  {
   "cell_type": "code",
   "execution_count": 24,
   "id": "0dab7e17",
   "metadata": {},
   "outputs": [
    {
     "name": "stdout",
     "output_type": "stream",
     "text": [
      "WARNING:tensorflow:Compiled the loaded model, but the compiled metrics have yet to be built. `model.compile_metrics` will be empty until you train or evaluate the model.\n"
     ]
    }
   ],
   "source": [
    "generator.save('generator_21.h5')\n",
    "generator.save_weights('generator_21_weights.h5')"
   ]
  },
  {
   "cell_type": "code",
   "execution_count": 25,
   "id": "4f08cf5a",
   "metadata": {},
   "outputs": [
    {
     "name": "stdout",
     "output_type": "stream",
     "text": [
      "WARNING:tensorflow:Compiled the loaded model, but the compiled metrics have yet to be built. `model.compile_metrics` will be empty until you train or evaluate the model.\n"
     ]
    }
   ],
   "source": [
    "discriminator.save('discriminator_21.h5')\n",
    "discriminator.save_weights('discriminator_21_weights.h5')"
   ]
  },
  {
   "cell_type": "code",
   "execution_count": 26,
   "id": "a44f0bf3",
   "metadata": {},
   "outputs": [],
   "source": [
    "#https://stackoverflow.com/questions/49503748/save-and-load-model-optimizer-state\n",
    "\n",
    "\n",
    "def save_optimizer_state(optimizer, save_path, save_name):\n",
    "    '''\n",
    "    Save keras.optimizers object state.\n",
    "\n",
    "    Arguments:\n",
    "    optimizer --- Optimizer object.\n",
    "    save_path --- Path to save location.\n",
    "    save_name --- Name of the .npy file to be created.\n",
    "\n",
    "    '''\n",
    "\n",
    "    # Create folder if it does not exists\n",
    "    if not os.path.exists(save_path):\n",
    "        os.makedirs(save_path)\n",
    "    \n",
    "    # save weights\n",
    "    np.save(os.path.join(save_path, save_name), optimizer.get_weights())\n",
    "\n",
    "    return"
   ]
  },
  {
   "cell_type": "code",
   "execution_count": 27,
   "id": "888f6ccc",
   "metadata": {},
   "outputs": [
    {
     "name": "stderr",
     "output_type": "stream",
     "text": [
      "/Users/atharvajoshi/miniforge3/lib/python3.9/site-packages/numpy/lib/npyio.py:518: VisibleDeprecationWarning: Creating an ndarray from ragged nested sequences (which is a list-or-tuple of lists-or-tuples-or ndarrays with different lengths or shapes) is deprecated. If you meant to do this, you must specify 'dtype=object' when creating the ndarray.\n",
      "  arr = np.asanyarray(arr)\n"
     ]
    }
   ],
   "source": [
    "save_optimizer_state(generator_optimizer, '/Users/atharvajoshi/Desktop/AI Image Colorizer/optimizers/','generator_optimizer_25')"
   ]
  },
  {
   "cell_type": "code",
   "execution_count": 28,
   "id": "4eed77c8",
   "metadata": {},
   "outputs": [],
   "source": [
    "save_optimizer_state(discriminator_optimizer, '/Users/atharvajoshi/Desktop/AI Image Colorizer/optimizers/','discriminator_optimizer_25')"
   ]
  },
  {
   "cell_type": "markdown",
   "id": "824aab7b",
   "metadata": {},
   "source": [
    "# Testing our model"
   ]
  },
  {
   "cell_type": "markdown",
   "id": "a6e899ac",
   "metadata": {},
   "source": [
    "Now let's try to give random samples to our model and lets see the outputs"
   ]
  },
  {
   "cell_type": "code",
   "execution_count": 29,
   "id": "bebd60bb",
   "metadata": {},
   "outputs": [],
   "source": [
    "def predict_image(img_path):\n",
    "    \n",
    "    img_arr = cv2.imread(img_path)\n",
    "    resized = cv2.resize(img_arr, (256,256))\n",
    "    img_lab = cv2.cvtColor(resized,cv2.COLOR_BGR2LAB)\n",
    "    lab_channels = cv2.split(img_lab)\n",
    "    \n",
    "    #plt.imshow(lab_channels[0])\n",
    "\n",
    "    #Normalizing Channels\n",
    "    normalized_l = lab_channels[0] / 127.5 - 1.\n",
    "    normalized_ab = (cv2.merge((lab_channels[1],lab_channels[2])) - 128.) / 127.\n",
    "\n",
    "    normalized_l = np.expand_dims(normalized_l,-1)\n",
    "    normalized_l = np.float32(normalized_l)\n",
    "    normalized_ab = np.float32(normalized_ab)\n",
    "    \n",
    "    #final_lab = cv2.merge((normalized_l,normalized_ab))\n",
    "    \n",
    "    final = np.expand_dims(normalized_l,0)\n",
    "    \n",
    "    predicted_ab = generator.predict(final)\n",
    "    \n",
    "    squeezed = np.squeeze(predicted_ab)\n",
    "    \n",
    "    predicted_lab = cv2.merge((normalized_l,squeezed))\n",
    "    \n",
    "    \n",
    "    pred_L = (predicted_lab[:,:,0] + 1.) * 50.\n",
    "    pred_ab = (predicted_lab[:,:,1:] * 127.5)\n",
    "    pred_L = np.float32(pred_L)\n",
    "    pred_ab = np.float32(pred_ab)\n",
    "\n",
    "\n",
    "    pred_lab = cv2.merge((pred_L,pred_ab))\n",
    "    pred_lab = np.float32(pred_lab)\n",
    "\n",
    "    pred_rgb = cv2.cvtColor(pred_lab,cv2.COLOR_LAB2RGB)\n",
    "\n",
    "    pred_rgb_final = pred_rgb * 255\n",
    "    final_pred_rgb = pred_rgb_final.astype(int)\n",
    "    plt.imshow(final_pred_rgb)\n",
    "    \n",
    "    return predicted_ab,normalized_l\n",
    "\n",
    "    \n",
    "    "
   ]
  },
  {
   "cell_type": "code",
   "execution_count": 30,
   "id": "874ed68b",
   "metadata": {},
   "outputs": [],
   "source": [
    "import matplotlib"
   ]
  },
  {
   "cell_type": "code",
   "execution_count": 53,
   "id": "fffe8139",
   "metadata": {},
   "outputs": [
    {
     "data": {
      "image/png": "[encoded data removed]",
      "text/plain": [
       "<Figure size 432x288 with 1 Axes>"
      ]
     },
     "metadata": {
      "needs_background": "light"
     },
     "output_type": "display_data"
    }
   ],
   "source": [
    "pred_ab,normalized_l = predict_image(os.getcwd()+'/pexels-photo-1461974.jpeg')"
   ]
  },
  {
   "cell_type": "code",
   "execution_count": 32,
   "id": "39ec6120",
   "metadata": {},
   "outputs": [
    {
     "data": {
      "text/plain": [
       "-0.11338706"
      ]
     },
     "execution_count": 32,
     "metadata": {},
     "output_type": "execute_result"
    }
   ],
   "source": [
    "pred_ab.min()"
   ]
  },
  {
   "cell_type": "code",
   "execution_count": 33,
   "id": "0673e972",
   "metadata": {},
   "outputs": [
    {
     "data": {
      "text/plain": [
       "-1.0"
      ]
     },
     "execution_count": 33,
     "metadata": {},
     "output_type": "execute_result"
    }
   ],
   "source": [
    "normalized_l.min()"
   ]
  },
  {
   "cell_type": "code",
   "execution_count": null,
   "id": "c40da8f4",
   "metadata": {},
   "outputs": [],
   "source": []
  }
 ],
 "metadata": {
  "kernelspec": {
   "display_name": "Python 3 (ipykernel)",
   "language": "python",
   "name": "python3"
  },
  "language_info": {
   "codemirror_mode": {
    "name": "ipython",
    "version": 3
   },
   "file_extension": ".py",
   "mimetype": "text/x-python",
   "name": "python",
   "nbconvert_exporter": "python",
   "pygments_lexer": "ipython3",
   "version": "3.9.7"
  }
 },
 "nbformat": 4,
 "nbformat_minor": 5
}
